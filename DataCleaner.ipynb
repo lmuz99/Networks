{
 "metadata": {
  "language_info": {
   "codemirror_mode": {
    "name": "ipython",
    "version": 3
   },
   "file_extension": ".py",
   "mimetype": "text/x-python",
   "name": "python",
   "nbconvert_exporter": "python",
   "pygments_lexer": "ipython3",
   "version": "3.8.5-final"
  },
  "orig_nbformat": 2,
  "kernelspec": {
   "name": "python3",
   "display_name": "Python 3.8.5 64-bit (conda)",
   "metadata": {
    "interpreter": {
     "hash": "942e3dc604e1304316408989d74e4edb1f538c134b31d1441bb0ab49d52b2335"
    }
   }
  }
 },
 "nbformat": 4,
 "nbformat_minor": 2,
 "cells": [
  {
   "cell_type": "code",
   "execution_count": 71,
   "metadata": {},
   "outputs": [],
   "source": [
    "import numpy as np \n",
    "import timeit\n",
    "import pandas as pd\n",
    "import matplotlib.pyplot as plt\n",
    "import logbin as lb\n",
    "import logbinFixedSIze as lbx\n",
    "\n",
    "plt.rcParams['figure.dpi'] = 300 # 200 e.g. is really fine, but slower\n",
    "\n",
    "m_array = [2, 4, 8, 16, 32]\n",
    "colours = [\"blue\", \"orange\", \"green\", \"red\", \"black\"]\n",
    "\n",
    "nodes = 1000000\n",
    "trials = 100\n",
    "\n",
    "def LoadFreq(isBa, isEr, N, m, runs):\n",
    "\n",
    "    if isBa:\n",
    "        filename = \"BA_N\" + str(N) + \"m\" + str(m) + \"R\" + str(runs) + \"FREQ.csv\"\n",
    "    elif isEr:\n",
    "        filename = \"ER_N\" + str(N) + \"m\" + str(m) + \"R\" + str(runs) + \"FREQ.csv\"\n",
    "    else:\n",
    "        filename = \"MIX_N\" + str(N) + \"m\" + str(m) + \"R\" + str(runs) + \"P23FREQ.csv\"\n",
    "\n",
    "    df = pd.read_csv(filename)\n",
    "    df.columns = [\"Node\",\"k\"]\n",
    "    df = df.set_index(\"Node\")\n",
    "    #df = df.reindex(list(range(1,df.index.max()+1)),fill_value=0)\n",
    "\n",
    "    return df"
   ]
  },
  {
   "cell_type": "code",
   "execution_count": 72,
   "metadata": {},
   "outputs": [],
   "source": [
    "\n",
    "def Clean(nodes, trials, m, scale):\n",
    "\n",
    "    full_freqs = LoadFreq(False, False, nodes, m, trials)\n",
    "\n",
    "    k_max = full_freqs[\"k\"].max()\n",
    "\n",
    "    t_max = int(full_freqs[\"k\"].idxmax()/nodes)\n",
    "    bins, probs, binedges = lbx.oldbin(full_freqs[\"k\"].iloc[nodes * t_max: nodes * (t_max+1)], scale=scale)\n",
    "\n",
    "    binned_probs = []\n",
    "\n",
    "    for i in range(trials):\n",
    "        single_series = full_freqs[\"k\"].iloc[nodes * i: nodes * (i+1)]\n",
    "        centres, probs = lbx.logbin(single_series, binedges, scale=scale)\n",
    "        binned_probs.append(probs)\n",
    "    binned_probs = pd.DataFrame(binned_probs)\n",
    "\n",
    "    means = binned_probs.mean()\n",
    "    errs = binned_probs.sem()\n",
    "    bins = pd.Series(bins)\n",
    "\n",
    "    final_df = pd.concat([bins, means, errs], axis=1)\n",
    "    final_df.columns = [\"Centres\", \"Mean\", \"Sem\"]\n",
    "\n",
    "    return final_df"
   ]
  },
  {
   "cell_type": "code",
   "execution_count": 73,
   "metadata": {},
   "outputs": [
    {
     "output_type": "stream",
     "name": "stdout",
     "text": [
      "Start2\n",
      "Writing2\n",
      "Finish2\n",
      "Start4\n",
      "Writing4\n",
      "Finish4\n",
      "Start8\n",
      "Writing8\n",
      "Finish8\n",
      "Start16\n",
      "Writing16\n",
      "Finish16\n",
      "Start32\n",
      "Writing32\n",
      "Finish32\n"
     ]
    }
   ],
   "source": [
    "for i in m_array:\n",
    "    print(\"Start\" + str(i))\n",
    "    data = Clean(nodes, trials, i, 1.1)\n",
    "    print(\"Writing\" + str(i))\n",
    "    filename = \"MIX_N\" + str(nodes) + \"m\" + str(i) + \"R\" + str(trials) + \"S\" + str(scale) + \"CLEAN.csv\"\n",
    "    data.to_csv(filename)\n",
    "    print(\"Finish\" + str(i))"
   ]
  },
  {
   "cell_type": "code",
   "execution_count": 74,
   "metadata": {
    "tags": []
   },
   "outputs": [],
   "source": [
    "#plt.plot(np.log10(np.arange(0,1000000)), full_freqs[\"k\"].iloc[0:1000000])\n",
    "\n"
   ]
  },
  {
   "cell_type": "code",
   "execution_count": null,
   "metadata": {},
   "outputs": [],
   "source": []
  }
 ]
}